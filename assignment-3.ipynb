{
  "cells": [
    {
      "cell_type": "code",
      "execution_count": 1,
      "id": "1a00ab06-6aa9-43be-b864-9b2126b4f176",
      "metadata": {
        "colab": {
          "base_uri": "https://localhost:8080/"
        },
        "id": "1a00ab06-6aa9-43be-b864-9b2126b4f176",
        "outputId": "011bd325-f2c1-4ad4-ac1e-333f179ba39a"
      },
      "outputs": [
        {
          "name": "stdout",
          "output_type": "stream",
          "text": [
            "  Tid Refund Marital Status Taxable Income Cheat\n",
            "0   1    Yes         Single           125K    No\n",
            "1   2     No        Married           100K    No\n",
            "2   3     No         Single            70K    No\n",
            "3   4    Yes        Married           120K    No\n",
            "4   5     No       Divorced            95K   Yes\n",
            "5   6     No        Married            60K    No\n",
            "6   7    Yes       Divorced           220K    No\n",
            "7   8     No         Single            85K   Yes\n",
            "8   9     No        Married            75K    No\n",
            "9  10     No         Single            90K   Yes\n"
          ]
        }
      ],
      "source": [
        "import pandas as pd\n",
        "data = {\n",
        "    \"Tid\":[\"1\",\"2\",\"3\",\"4\",\"5\",\"6\",\"7\",\"8\",\"9\",\"10\"],\n",
        "    \"Refund\":[\"Yes\",\"No\",\"No\",\"Yes\",\"No\",\"No\",\"Yes\",\"No\",\"No\",\"No\"],\n",
        "    \"Marital Status\":[\"Single\",\"Married\",\"Single\",\"Married\",\"Divorced\",\"Married\",\"Divorced\",\"Single\",\"Married\",\"Single\"],\n",
        "    \"Taxable Income\":[\"125K\",\"100K\",\"70K\",\"120K\",\"95K\",\"60K\",\"220K\",\"85K\",\"75K\",\"90K\"],\n",
        "    \"Cheat\":[\"No\",\"No\",\"No\",\"No\",\"Yes\",\"No\",\"No\",\"Yes\",\"No\",\"Yes\"]\n",
        "}\n",
        "df = pd.DataFrame(data)\n",
        "print(df)"
      ]
    },
    {
      "cell_type": "code",
      "execution_count": null,
      "id": "9fcce0be-4c75-4e4d-8e30-1063f10d7686",
      "metadata": {
        "id": "9fcce0be-4c75-4e4d-8e30-1063f10d7686",
        "outputId": "153f3f3e-04a2-4b49-9bef-3b055d42a7a2"
      },
      "outputs": [
        {
          "name": "stdout",
          "output_type": "stream",
          "text": [
            "Tid                    1\n",
            "Refund               Yes\n",
            "Marital Status    Single\n",
            "Taxable Income      125K\n",
            "Cheat                 No\n",
            "Name: 0, dtype: object\n"
          ]
        }
      ],
      "source": [
        "print(df.loc[0])"
      ]
    },
    {
      "cell_type": "code",
      "execution_count": null,
      "id": "10841543-c47e-4df6-873c-5472e4f58010",
      "metadata": {
        "id": "10841543-c47e-4df6-873c-5472e4f58010",
        "outputId": "a7947080-1f80-47c8-e50c-b2bafc9aa4e6"
      },
      "outputs": [
        {
          "name": "stdout",
          "output_type": "stream",
          "text": [
            "Tid                      5\n",
            "Refund                  No\n",
            "Marital Status    Divorced\n",
            "Taxable Income         95K\n",
            "Cheat                  Yes\n",
            "Name: 4, dtype: object\n"
          ]
        }
      ],
      "source": [
        "print(df.loc[4])"
      ]
    },
    {
      "cell_type": "code",
      "execution_count": null,
      "id": "c1f4f241-865b-4a8d-98e6-53b82036ac66",
      "metadata": {
        "id": "c1f4f241-865b-4a8d-98e6-53b82036ac66",
        "outputId": "044b2469-28a8-4171-92b0-a368317bc075"
      },
      "outputs": [
        {
          "name": "stdout",
          "output_type": "stream",
          "text": [
            "Tid                    8\n",
            "Refund                No\n",
            "Marital Status    Single\n",
            "Taxable Income       85K\n",
            "Cheat                Yes\n",
            "Name: 7, dtype: object\n",
            "\n",
            "\n",
            "Tid                     9\n",
            "Refund                 No\n",
            "Marital Status    Married\n",
            "Taxable Income        75K\n",
            "Cheat                  No\n",
            "Name: 8, dtype: object\n"
          ]
        }
      ],
      "source": [
        "print(df.loc[7])\n",
        "print(\"\\n\")\n",
        "print(df.loc[8])"
      ]
    },
    {
      "cell_type": "code",
      "execution_count": null,
      "id": "3a38f449-8720-44ed-8dab-b5e831bfd8ec",
      "metadata": {
        "id": "3a38f449-8720-44ed-8dab-b5e831bfd8ec",
        "outputId": "339d5f10-8260-4d2e-c6ce-d9dc4c80170c"
      },
      "outputs": [
        {
          "data": {
            "text/html": [
              "<div>\n",
              "<style scoped>\n",
              "    .dataframe tbody tr th:only-of-type {\n",
              "        vertical-align: middle;\n",
              "    }\n",
              "\n",
              "    .dataframe tbody tr th {\n",
              "        vertical-align: top;\n",
              "    }\n",
              "\n",
              "    .dataframe thead th {\n",
              "        text-align: right;\n",
              "    }\n",
              "</style>\n",
              "<table border=\"1\" class=\"dataframe\">\n",
              "  <thead>\n",
              "    <tr style=\"text-align: right;\">\n",
              "      <th></th>\n",
              "      <th>Tid</th>\n",
              "      <th>Refund</th>\n",
              "      <th>Marital Status</th>\n",
              "      <th>Taxable Income</th>\n",
              "      <th>Cheat</th>\n",
              "    </tr>\n",
              "  </thead>\n",
              "  <tbody>\n",
              "    <tr>\n",
              "      <th>0</th>\n",
              "      <td>1</td>\n",
              "      <td>Yes</td>\n",
              "      <td>Single</td>\n",
              "      <td>125K</td>\n",
              "      <td>No</td>\n",
              "    </tr>\n",
              "    <tr>\n",
              "      <th>1</th>\n",
              "      <td>2</td>\n",
              "      <td>No</td>\n",
              "      <td>Married</td>\n",
              "      <td>100K</td>\n",
              "      <td>No</td>\n",
              "    </tr>\n",
              "    <tr>\n",
              "      <th>2</th>\n",
              "      <td>3</td>\n",
              "      <td>No</td>\n",
              "      <td>Single</td>\n",
              "      <td>70K</td>\n",
              "      <td>No</td>\n",
              "    </tr>\n",
              "    <tr>\n",
              "      <th>3</th>\n",
              "      <td>4</td>\n",
              "      <td>Yes</td>\n",
              "      <td>Married</td>\n",
              "      <td>120K</td>\n",
              "      <td>No</td>\n",
              "    </tr>\n",
              "    <tr>\n",
              "      <th>4</th>\n",
              "      <td>5</td>\n",
              "      <td>No</td>\n",
              "      <td>Divorced</td>\n",
              "      <td>95K</td>\n",
              "      <td>Yes</td>\n",
              "    </tr>\n",
              "  </tbody>\n",
              "</table>\n",
              "</div>"
            ],
            "text/plain": [
              "  Tid Refund Marital Status Taxable Income Cheat\n",
              "0   1    Yes         Single           125K    No\n",
              "1   2     No        Married           100K    No\n",
              "2   3     No         Single            70K    No\n",
              "3   4    Yes        Married           120K    No\n",
              "4   5     No       Divorced            95K   Yes"
            ]
          },
          "execution_count": 7,
          "metadata": {},
          "output_type": "execute_result"
        }
      ],
      "source": [
        "df.head()"
      ]
    },
    {
      "cell_type": "code",
      "execution_count": null,
      "id": "f63220c2-4bcf-4f77-9cdf-a82de0290852",
      "metadata": {
        "id": "f63220c2-4bcf-4f77-9cdf-a82de0290852",
        "outputId": "08554b87-e2f9-45d1-a3e2-e069f62ac0fe"
      },
      "outputs": [
        {
          "data": {
            "text/html": [
              "<div>\n",
              "<style scoped>\n",
              "    .dataframe tbody tr th:only-of-type {\n",
              "        vertical-align: middle;\n",
              "    }\n",
              "\n",
              "    .dataframe tbody tr th {\n",
              "        vertical-align: top;\n",
              "    }\n",
              "\n",
              "    .dataframe thead th {\n",
              "        text-align: right;\n",
              "    }\n",
              "</style>\n",
              "<table border=\"1\" class=\"dataframe\">\n",
              "  <thead>\n",
              "    <tr style=\"text-align: right;\">\n",
              "      <th></th>\n",
              "      <th>Tid</th>\n",
              "      <th>Refund</th>\n",
              "      <th>Marital Status</th>\n",
              "      <th>Taxable Income</th>\n",
              "      <th>Cheat</th>\n",
              "    </tr>\n",
              "  </thead>\n",
              "  <tbody>\n",
              "    <tr>\n",
              "      <th>5</th>\n",
              "      <td>6</td>\n",
              "      <td>No</td>\n",
              "      <td>Married</td>\n",
              "      <td>60K</td>\n",
              "      <td>No</td>\n",
              "    </tr>\n",
              "    <tr>\n",
              "      <th>6</th>\n",
              "      <td>7</td>\n",
              "      <td>Yes</td>\n",
              "      <td>Divorced</td>\n",
              "      <td>220K</td>\n",
              "      <td>No</td>\n",
              "    </tr>\n",
              "    <tr>\n",
              "      <th>7</th>\n",
              "      <td>8</td>\n",
              "      <td>No</td>\n",
              "      <td>Single</td>\n",
              "      <td>85K</td>\n",
              "      <td>Yes</td>\n",
              "    </tr>\n",
              "    <tr>\n",
              "      <th>8</th>\n",
              "      <td>9</td>\n",
              "      <td>No</td>\n",
              "      <td>Married</td>\n",
              "      <td>75K</td>\n",
              "      <td>No</td>\n",
              "    </tr>\n",
              "    <tr>\n",
              "      <th>9</th>\n",
              "      <td>10</td>\n",
              "      <td>No</td>\n",
              "      <td>Single</td>\n",
              "      <td>90K</td>\n",
              "      <td>Yes</td>\n",
              "    </tr>\n",
              "  </tbody>\n",
              "</table>\n",
              "</div>"
            ],
            "text/plain": [
              "  Tid Refund Marital Status Taxable Income Cheat\n",
              "5   6     No        Married            60K    No\n",
              "6   7    Yes       Divorced           220K    No\n",
              "7   8     No         Single            85K   Yes\n",
              "8   9     No        Married            75K    No\n",
              "9  10     No         Single            90K   Yes"
            ]
          },
          "execution_count": 9,
          "metadata": {},
          "output_type": "execute_result"
        }
      ],
      "source": [
        "df.tail()"
      ]
    },
    {
      "cell_type": "code",
      "execution_count": null,
      "id": "44daa107-432c-435b-8e39-06ee5906f836",
      "metadata": {
        "id": "44daa107-432c-435b-8e39-06ee5906f836",
        "outputId": "b232900c-8cba-4b5c-e444-2e050fd98d82",
        "scrolled": true
      },
      "outputs": [
        {
          "data": {
            "text/html": [
              "<div>\n",
              "<style scoped>\n",
              "    .dataframe tbody tr th:only-of-type {\n",
              "        vertical-align: middle;\n",
              "    }\n",
              "\n",
              "    .dataframe tbody tr th {\n",
              "        vertical-align: top;\n",
              "    }\n",
              "\n",
              "    .dataframe thead th {\n",
              "        text-align: right;\n",
              "    }\n",
              "</style>\n",
              "<table border=\"1\" class=\"dataframe\">\n",
              "  <thead>\n",
              "    <tr style=\"text-align: right;\">\n",
              "      <th></th>\n",
              "      <th>Tid</th>\n",
              "      <th>Refund</th>\n",
              "      <th>Marital Status</th>\n",
              "      <th>Taxable Income</th>\n",
              "      <th>Cheat</th>\n",
              "    </tr>\n",
              "  </thead>\n",
              "  <tbody>\n",
              "    <tr>\n",
              "      <th>3</th>\n",
              "      <td>4</td>\n",
              "      <td>Yes</td>\n",
              "      <td>Married</td>\n",
              "      <td>120K</td>\n",
              "      <td>No</td>\n",
              "    </tr>\n",
              "    <tr>\n",
              "      <th>4</th>\n",
              "      <td>5</td>\n",
              "      <td>No</td>\n",
              "      <td>Divorced</td>\n",
              "      <td>95K</td>\n",
              "      <td>Yes</td>\n",
              "    </tr>\n",
              "    <tr>\n",
              "      <th>5</th>\n",
              "      <td>6</td>\n",
              "      <td>No</td>\n",
              "      <td>Married</td>\n",
              "      <td>60K</td>\n",
              "      <td>No</td>\n",
              "    </tr>\n",
              "    <tr>\n",
              "      <th>6</th>\n",
              "      <td>7</td>\n",
              "      <td>Yes</td>\n",
              "      <td>Divorced</td>\n",
              "      <td>220K</td>\n",
              "      <td>No</td>\n",
              "    </tr>\n",
              "    <tr>\n",
              "      <th>7</th>\n",
              "      <td>8</td>\n",
              "      <td>No</td>\n",
              "      <td>Single</td>\n",
              "      <td>85K</td>\n",
              "      <td>Yes</td>\n",
              "    </tr>\n",
              "  </tbody>\n",
              "</table>\n",
              "</div>"
            ],
            "text/plain": [
              "  Tid Refund Marital Status Taxable Income Cheat\n",
              "3   4    Yes        Married           120K    No\n",
              "4   5     No       Divorced            95K   Yes\n",
              "5   6     No        Married            60K    No\n",
              "6   7    Yes       Divorced           220K    No\n",
              "7   8     No         Single            85K   Yes"
            ]
          },
          "execution_count": 11,
          "metadata": {},
          "output_type": "execute_result"
        }
      ],
      "source": [
        "df.iloc[3:8]"
      ]
    },
    {
      "cell_type": "code",
      "execution_count": null,
      "id": "a355dfc8-81c2-464c-9a7f-641e41f40b60",
      "metadata": {
        "id": "a355dfc8-81c2-464c-9a7f-641e41f40b60",
        "outputId": "a0a92783-ba61-41be-b142-24c9971dffbf"
      },
      "outputs": [
        {
          "data": {
            "text/html": [
              "<div>\n",
              "<style scoped>\n",
              "    .dataframe tbody tr th:only-of-type {\n",
              "        vertical-align: middle;\n",
              "    }\n",
              "\n",
              "    .dataframe tbody tr th {\n",
              "        vertical-align: top;\n",
              "    }\n",
              "\n",
              "    .dataframe thead th {\n",
              "        text-align: right;\n",
              "    }\n",
              "</style>\n",
              "<table border=\"1\" class=\"dataframe\">\n",
              "  <thead>\n",
              "    <tr style=\"text-align: right;\">\n",
              "      <th></th>\n",
              "      <th>Marital Status</th>\n",
              "      <th>Taxable Income</th>\n",
              "      <th>Cheat</th>\n",
              "    </tr>\n",
              "  </thead>\n",
              "  <tbody>\n",
              "    <tr>\n",
              "      <th>4</th>\n",
              "      <td>Divorced</td>\n",
              "      <td>95K</td>\n",
              "      <td>Yes</td>\n",
              "    </tr>\n",
              "    <tr>\n",
              "      <th>5</th>\n",
              "      <td>Married</td>\n",
              "      <td>60K</td>\n",
              "      <td>No</td>\n",
              "    </tr>\n",
              "    <tr>\n",
              "      <th>6</th>\n",
              "      <td>Divorced</td>\n",
              "      <td>220K</td>\n",
              "      <td>No</td>\n",
              "    </tr>\n",
              "    <tr>\n",
              "      <th>7</th>\n",
              "      <td>Single</td>\n",
              "      <td>85K</td>\n",
              "      <td>Yes</td>\n",
              "    </tr>\n",
              "    <tr>\n",
              "      <th>8</th>\n",
              "      <td>Married</td>\n",
              "      <td>75K</td>\n",
              "      <td>No</td>\n",
              "    </tr>\n",
              "  </tbody>\n",
              "</table>\n",
              "</div>"
            ],
            "text/plain": [
              "  Marital Status Taxable Income Cheat\n",
              "4       Divorced            95K   Yes\n",
              "5        Married            60K    No\n",
              "6       Divorced           220K    No\n",
              "7         Single            85K   Yes\n",
              "8        Married            75K    No"
            ]
          },
          "execution_count": 12,
          "metadata": {},
          "output_type": "execute_result"
        }
      ],
      "source": [
        "df.iloc[4:9,2:5]"
      ]
    },
    {
      "cell_type": "code",
      "execution_count": null,
      "id": "734d8b4d-dab2-41b8-99c2-0b5e13ef5f19",
      "metadata": {
        "id": "734d8b4d-dab2-41b8-99c2-0b5e13ef5f19",
        "outputId": "58f79ded-ed9e-4cb4-c521-0416b3781b2d"
      },
      "outputs": [
        {
          "data": {
            "text/html": [
              "<div>\n",
              "<style scoped>\n",
              "    .dataframe tbody tr th:only-of-type {\n",
              "        vertical-align: middle;\n",
              "    }\n",
              "\n",
              "    .dataframe tbody tr th {\n",
              "        vertical-align: top;\n",
              "    }\n",
              "\n",
              "    .dataframe thead th {\n",
              "        text-align: right;\n",
              "    }\n",
              "</style>\n",
              "<table border=\"1\" class=\"dataframe\">\n",
              "  <thead>\n",
              "    <tr style=\"text-align: right;\">\n",
              "      <th></th>\n",
              "      <th>Refund</th>\n",
              "      <th>Marital Status</th>\n",
              "      <th>Taxable Income</th>\n",
              "    </tr>\n",
              "  </thead>\n",
              "  <tbody>\n",
              "    <tr>\n",
              "      <th>0</th>\n",
              "      <td>Yes</td>\n",
              "      <td>Single</td>\n",
              "      <td>125K</td>\n",
              "    </tr>\n",
              "    <tr>\n",
              "      <th>1</th>\n",
              "      <td>No</td>\n",
              "      <td>Married</td>\n",
              "      <td>100K</td>\n",
              "    </tr>\n",
              "    <tr>\n",
              "      <th>2</th>\n",
              "      <td>No</td>\n",
              "      <td>Single</td>\n",
              "      <td>70K</td>\n",
              "    </tr>\n",
              "    <tr>\n",
              "      <th>3</th>\n",
              "      <td>Yes</td>\n",
              "      <td>Married</td>\n",
              "      <td>120K</td>\n",
              "    </tr>\n",
              "    <tr>\n",
              "      <th>4</th>\n",
              "      <td>No</td>\n",
              "      <td>Divorced</td>\n",
              "      <td>95K</td>\n",
              "    </tr>\n",
              "    <tr>\n",
              "      <th>5</th>\n",
              "      <td>No</td>\n",
              "      <td>Married</td>\n",
              "      <td>60K</td>\n",
              "    </tr>\n",
              "    <tr>\n",
              "      <th>6</th>\n",
              "      <td>Yes</td>\n",
              "      <td>Divorced</td>\n",
              "      <td>220K</td>\n",
              "    </tr>\n",
              "    <tr>\n",
              "      <th>7</th>\n",
              "      <td>No</td>\n",
              "      <td>Single</td>\n",
              "      <td>85K</td>\n",
              "    </tr>\n",
              "    <tr>\n",
              "      <th>8</th>\n",
              "      <td>No</td>\n",
              "      <td>Married</td>\n",
              "      <td>75K</td>\n",
              "    </tr>\n",
              "    <tr>\n",
              "      <th>9</th>\n",
              "      <td>No</td>\n",
              "      <td>Single</td>\n",
              "      <td>90K</td>\n",
              "    </tr>\n",
              "  </tbody>\n",
              "</table>\n",
              "</div>"
            ],
            "text/plain": [
              "  Refund Marital Status Taxable Income\n",
              "0    Yes         Single           125K\n",
              "1     No        Married           100K\n",
              "2     No         Single            70K\n",
              "3    Yes        Married           120K\n",
              "4     No       Divorced            95K\n",
              "5     No        Married            60K\n",
              "6    Yes       Divorced           220K\n",
              "7     No         Single            85K\n",
              "8     No        Married            75K\n",
              "9     No         Single            90K"
            ]
          },
          "execution_count": 13,
          "metadata": {},
          "output_type": "execute_result"
        }
      ],
      "source": [
        "df.iloc[:,1:4]"
      ]
    },
    {
      "cell_type": "code",
      "execution_count": 12,
      "id": "aeb82836-ef03-463f-99eb-70d95d6338ed",
      "metadata": {
        "colab": {
          "base_uri": "https://localhost:8080/"
        },
        "id": "aeb82836-ef03-463f-99eb-70d95d6338ed",
        "outputId": "568edabc-1c22-49e6-8e0c-31afd3ad9f3b"
      },
      "outputs": [
        {
          "name": "stdout",
          "output_type": "stream",
          "text": [
            "      Id  SepalLengthCm  SepalWidthCm  PetalWidthCm         Species\n",
            "0      1            5.1           3.5           0.2     Iris-setosa\n",
            "1      2            4.9           3.0           0.2     Iris-setosa\n",
            "2      3            4.7           3.2           0.2     Iris-setosa\n",
            "3      4            4.6           3.1           0.2     Iris-setosa\n",
            "5      6            5.4           3.9           0.4     Iris-setosa\n",
            "..   ...            ...           ...           ...             ...\n",
            "145  146            6.7           3.0           2.3  Iris-virginica\n",
            "146  147            6.3           2.5           1.9  Iris-virginica\n",
            "147  148            6.5           3.0           2.0  Iris-virginica\n",
            "148  149            6.2           3.4           2.3  Iris-virginica\n",
            "149  150            5.9           3.0           1.8  Iris-virginica\n",
            "\n",
            "[149 rows x 5 columns]\n"
          ]
        }
      ],
      "source": [
        "import pandas as pd\n",
        "n = pd.read_csv(\"Iris.csv\")\n",
        "p = pd.DataFrame(n)\n",
        "p.head()"
      ]
    },
    {
      "cell_type": "code",
      "execution_count": 13,
      "id": "cmEaP6qzmFHv",
      "metadata": {
        "colab": {
          "base_uri": "https://localhost:8080/"
        },
        "id": "cmEaP6qzmFHv",
        "outputId": "12987708-5341-4cc8-d769-8bf9356a4add"
      },
      "outputs": [
        {
          "name": "stdout",
          "output_type": "stream",
          "text": [
            "      Id  SepalLengthCm  SepalWidthCm  PetalWidthCm         Species\n",
            "0      1            5.1           3.5           0.2     Iris-setosa\n",
            "1      2            4.9           3.0           0.2     Iris-setosa\n",
            "2      3            4.7           3.2           0.2     Iris-setosa\n",
            "3      4            4.6           3.1           0.2     Iris-setosa\n",
            "5      6            5.4           3.9           0.4     Iris-setosa\n",
            "..   ...            ...           ...           ...             ...\n",
            "145  146            6.7           3.0           2.3  Iris-virginica\n",
            "146  147            6.3           2.5           1.9  Iris-virginica\n",
            "147  148            6.5           3.0           2.0  Iris-virginica\n",
            "148  149            6.2           3.4           2.3  Iris-virginica\n",
            "149  150            5.9           3.0           1.8  Iris-virginica\n",
            "\n",
            "[149 rows x 5 columns]\n"
          ]
        }
      ],
      "source": [
        "import pandas as pd\n",
        "n = pd.read_csv(\"Iris.csv\")\n",
        "p = pd.DataFrame(n)\n",
        "p.drop(4,axis=0,inplace=True)\n",
        "p.drop(p.columns[3],axis=1,inplace=True)\n",
        "print(p)"
      ]
    },
    {
      "cell_type": "code",
      "execution_count": 17,
      "id": "y4iyLWqomgdc",
      "metadata": {
        "colab": {
          "base_uri": "https://localhost:8080/"
        },
        "id": "y4iyLWqomgdc",
        "outputId": "b51e96aa-1481-4cf6-edb1-467a25f2d39a"
      },
      "outputs": [
        {
          "name": "stdout",
          "output_type": "stream",
          "text": [
            "  Employee_ID     Name Department Age Salary Years_of_Experience Joining_Date  \\\n",
            "0         101    Alice         HR  29  50000                   4   2020-03-15   \n",
            "1         102      Bob         IT  34  70000                   8   2017-06-01   \n",
            "2         103  Charlie         IT  41  65000                  10   2013-06-01   \n",
            "3         104    Diana  Marketing  28  55000                   3   2021-02-10   \n",
            "4         105   Edward      Sales  38  60000                  12   2010-11-25   \n",
            "\n",
            "   Gender Bonus Rating  \n",
            "0  Female  5000    4.5  \n",
            "1    Male  7000    4.0  \n",
            "2    Male  6000    3.8  \n",
            "3  Female  4500    4.7  \n",
            "4    Male  5000    3.5  \n"
          ]
        }
      ],
      "source": [
        "import pandas as pd\n",
        "sample={\n",
        "    \"Employee_ID\":[\"101\",\"102\",\"103\",\"104\",\"105\"],\n",
        "    \"Name\":[\"Alice\",\"Bob\",\"Charlie\",\"Diana\",\"Edward\"],\n",
        "    \"Department\":[\"HR\",\"IT\",\"IT\",\"Marketing\",\"Sales\"],\n",
        "    \"Age\":[\"29\",\"34\",\"41\",\"28\",\"38\"],\n",
        "    \"Salary\":[\"50000\",\"70000\",\"65000\",\"55000\",\"60000\"],\n",
        "    \"Years_of_Experience\":[\"4\",\"8\",\"10\",\"3\",\"12\"],\n",
        "    \"Joining_Date\":[\"2020-03-15\",\"2017-06-01\",\"2013-06-01\",\"2021-02-10\",\"2010-11-25\"],\n",
        "    \"Gender\":[\"Female\",\"Male\",\"Male\",\"Female\",\"Male\"],\n",
        "    \"Bonus\":[\"5000\",\"7000\",\"6000\",\"4500\",\"5000\"],\n",
        "    \"Rating\":[\"4.5\",\"4.0\",\"3.8\",\"4.7\",\"3.5\"]\n",
        "}\n",
        "\n",
        "# Creating DataFrame\n",
        "df = pd.DataFrame(data)\n",
        "\n",
        "# Save dataset to CSV\n",
        "df.to_csv(\"employees.csv\", index=False)\n",
        "\n",
        "# a) Shape of the DataFrame\n",
        "print(\"Shape of DataFrame:\", df.shape)\n",
        "\n",
        "# b) Summary of DataFrame\n",
        "print(\"\\nSummary of DataFrame:\")\n",
        "print(df.info())\n",
        "\n",
        "# c) Descriptive statistics\n",
        "print(\"\\nDescriptive Statistics:\")\n",
        "print(df.describe())\n",
        "\n",
        "# d) Display first 5 rows and last 3 rows\n",
        "print(\"\\nFirst 5 rows:\")\n",
        "print(df.head())\n",
        "print(\"\\nLast 3 rows:\")\n",
        "print(df.tail(3))\n",
        "\n",
        "# e) Calculate statistics\n",
        "i_avg_salary = df[\"Salary\"].mean()\n",
        "ii_total_bonus = df[\"Bonus\"].sum()\n",
        "iii_youngest_age = df[\"Age\"].min()\n",
        "iv_highest_rating = df[\"Rating\"].max()\n",
        "\n",
        "print(f\"\\nAverage Salary: {i_avg_salary}\")\n",
        "print(f\"Total Bonus Paid: {ii_total_bonus}\")\n",
        "print(f\"Youngest Employee Age: {iii_youngest_age}\")\n",
        "print(f\"Highest Performance Rating: {iv_highest_rating}\")\n",
        "\n",
        "# f) Sort DataFrame by Salary in descending order\n",
        "df_sorted = df.sort_values(by=\"Salary\", ascending=False)\n",
        "print(\"\\nDataFrame sorted by Salary (descending):\")\n",
        "print(df_sorted)\n",
        "\n",
        "# g) Categorizing employees based on performance rating\n",
        "def categorize_rating(rating):\n",
        "    if rating >= 4.5:\n",
        "        return \"Excellent\"\n",
        "    elif rating >= 4.0:\n",
        "        return \"Good\"\n",
        "    else:\n",
        "        return \"Average\"\n",
        "\n",
        "df[\"Performance_Category\"] = df[\"Rating\"].apply(categorize_rating)\n",
        "print(\"\\nDataFrame with Performance Category:\")\n",
        "print(df)\n",
        "\n",
        "# h) Identify missing values\n",
        "print(\"\\nMissing Values:\")\n",
        "print(df.isnull().sum())\n",
        "\n",
        "# i) Rename Employee_ID to ID\n",
        "df.rename(columns={\"Employee_ID\": \"ID\"}, inplace=True)\n",
        "print(\"\\nDataFrame after renaming Employee_ID to ID:\")\n",
        "print(df)\n",
        "\n",
        "# j) Employees with more than 5 years of experience and IT department\n",
        "experienced_employees = df[df[\"Years_of_Experience\"] > 5]\n",
        "it_employees = df[df[\"Department\"] == \"IT\"]\n",
        "print(\"\\nEmployees with more than 5 years of experience:\")\n",
        "print(experienced_employees)\n",
        "print(\"\\nEmployees in IT department:\")\n",
        "print(it_employees)\n",
        "\n",
        "# k) Add Tax column (10% deduction from Salary)\n",
        "df[\"Tax\"] = df[\"Salary\"] * 0.10\n",
        "print(\"\\nDataFrame with Tax column:\")\n",
        "print(df)\n",
        "\n",
        "# l) Save modified DataFrame to a new CSV file\n",
        "df.to_csv(\"modified_employees.csv\", index=False)\n",
        "print(\"\\nModified DataFrame saved to 'modified_employees.csv'\")"
      ]
    }
  ],
  "metadata": {
    "colab": {
      "provenance": []
    },
    "kernelspec": {
      "display_name": "Python 3 (ipykernel)",
      "language": "python",
      "name": "python3"
    },
    "language_info": {
      "codemirror_mode": {
        "name": "ipython",
        "version": 3
      },
      "file_extension": ".py",
      "mimetype": "text/x-python",
      "name": "python",
      "nbconvert_exporter": "python",
      "pygments_lexer": "ipython3",
      "version": "3.11.7"
    }
  },
  "nbformat": 4,
  "nbformat_minor": 5
}
