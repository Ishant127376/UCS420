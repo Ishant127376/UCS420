{
  "cells": [
    {
      "cell_type": "code",
      "execution_count": null,
      "metadata": {
        "id": "RkI6RMAHkri2"
      },
      "outputs": [],
      "source": [
        "import numpy as np\n",
        "gfg = np.matrix('[4, 1, 9; 12, 3, 1; 4, 5, 6]')\n",
        "print(np.sum(gfg))\n",
        "print(np.sum(gfg, axis=1))\n",
        "print(np.sum(gfg, axis=0))"
      ]
    },
    {
      "cell_type": "code",
      "execution_count": null,
      "metadata": {
        "id": "eol_8trsk6Bz"
      },
      "outputs": [],
      "source": [
        "import numpy as np\n",
        "array = np.array([10, 52, 62, 16, 16, 54, 453])\n",
        "print(np.sort(array))\n",
        "print(np.argsort(array))\n",
        "print(np.sort(array)[:4])\n",
        "print(np.sort(array)[-5:])\n",
        "\n",
        "\n",
        "array = np.array([1.0, 1.2, 2.2, 2.0, 3.0, 2.0])\n",
        "print(array[array == array.astype(int)])\n",
        "print(array[array != array.astype(int)])"
      ]
    },
    {
      "cell_type": "code",
      "execution_count": null,
      "metadata": {
        "id": "swY-SoaslSfS"
      },
      "outputs": [],
      "source": [
        "import numpy as np\n",
        "\n",
        "name = \"IS\"\n",
        "X = sum( ord(char) for char in name)\n",
        "print(X)\n",
        "\n",
        "sales = np.array([X, X+50, X+100, X+150, X+200])\n",
        "print(sales)\n",
        "\n",
        "tax=((X%5)+5)/100\n",
        "print(tax)\n",
        "\n",
        "sales2=sales*(1-tax)\n",
        "print(sales2)"
      ]
    },
    {
      "cell_type": "code",
      "execution_count": null,
      "metadata": {
        "id": "fqvYvDCimI4H"
      },
      "outputs": [],
      "source": [
        "import numpy as np\n",
        "import matplotlib.pyplot as plt\n",
        "\n",
        "x=np.linspace(-10,10,100)\n",
        "y1=x**2\n",
        "plt.plot(x,y1)\n",
        "plt.grid(True)\n",
        "plt.title(\"y=x^2\")\n",
        "plt.xlabel(\"x values\")\n",
        "plt.ylabel(\"y values\")"
      ]
    },
    {
      "cell_type": "code",
      "execution_count": null,
      "metadata": {
        "id": "PGBAnyEfmT70"
      },
      "outputs": [],
      "source": [
        "import numpy as np\n",
        "import matplotlib.pyplot as plt\n",
        "\n",
        "x=np.linspace(-10,10,100)\n",
        "y2=np.sin(x)\n",
        "plt.plot(x,y2)\n",
        "plt.grid(True)\n",
        "plt.title(\"y=sin(x)\")\n",
        "plt.xlabel(\"x values\")\n",
        "plt.ylabel(\"y values\")"
      ]
    },
    {
      "cell_type": "code",
      "execution_count": null,
      "metadata": {
        "id": "Mk2qyfuvmYG9"
      },
      "outputs": [],
      "source": [
        "import numpy as np\n",
        "import matplotlib.pyplot as plt\n",
        "\n",
        "x=np.linspace(-10,10,100)\n",
        "y3=np.exp(x)\n",
        "plt.plot(x,y3)\n",
        "plt.grid(True)\n",
        "plt.title(\"y=e^x\")\n",
        "plt.xlabel(\"x values\")\n",
        "plt.ylabel(\"y values\")"
      ]
    },
    {
      "cell_type": "code",
      "execution_count": null,
      "metadata": {
        "id": "WP2Eu9c6mbOX"
      },
      "outputs": [],
      "source": [
        "import numpy as np\n",
        "import matplotlib.pyplot as plt\n",
        "\n",
        "x=np.linspace(-10,10,100)\n",
        "y4=np.log(np.abs(x)+1)\n",
        "plt.plot(x,y4)\n",
        "plt.grid(True)\n",
        "plt.title(\"y= log(|x| + 1)\")\n",
        "plt.xlabel(\"x values\")\n",
        "plt.ylabel(\"y values\")"
      ]
    }
  ],
  "metadata": {
    "colab": {
      "provenance": []
    },
    "kernelspec": {
      "display_name": "Python 3",
      "name": "python3"
    },
    "language_info": {
      "name": "python"
    }
  },
  "nbformat": 4,
  "nbformat_minor": 0
}
