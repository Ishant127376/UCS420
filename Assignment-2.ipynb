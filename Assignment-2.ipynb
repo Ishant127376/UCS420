{
 "cells": [
  {
   "cell_type": "code",
   "execution_count": 25,
   "id": "33fc3473-8e6d-4343-929e-e3265e29daa6",
   "metadata": {},
   "outputs": [
    {
     "name": "stdout",
     "output_type": "stream",
     "text": [
      "[10, 20, 30, 40, 50, 60, 70, 80]\n"
     ]
    },
    {
     "data": {
      "text/plain": [
       "[10, 20, 30, 40, 50, 60, 70, 80, 200, 300]"
      ]
     },
     "execution_count": 25,
     "metadata": {},
     "output_type": "execute_result"
    }
   ],
   "source": [
    "a = [10,20,30,40,50,60,70,80]\n",
    "print(a)\n",
    "a.append(200)\n",
    "a.append(300)\n",
    "a"
   ]
  },
  {
   "cell_type": "code",
   "execution_count": 27,
   "id": "7181acc6-be6e-4cc6-8d3a-d5900740299e",
   "metadata": {},
   "outputs": [
    {
     "name": "stdout",
     "output_type": "stream",
     "text": [
      "[20, 30, 40, 50, 60, 70, 80, 200, 300]\n",
      "[20, 40, 50, 60, 70, 80, 200, 300]\n"
     ]
    }
   ],
   "source": [
    "a.remove(a[0])\n",
    "print(a)\n",
    "a.remove(a[1])\n",
    "print(a)"
   ]
  },
  {
   "cell_type": "code",
   "execution_count": 29,
   "id": "7aa5010e-a1b1-46fa-9f57-ddaca70eb8e0",
   "metadata": {},
   "outputs": [
    {
     "data": {
      "text/plain": [
       "[20, 40, 50, 60, 70, 80, 200, 300]"
      ]
     },
     "execution_count": 29,
     "metadata": {},
     "output_type": "execute_result"
    }
   ],
   "source": [
    "a.sort()\n",
    "a"
   ]
  },
  {
   "cell_type": "code",
   "execution_count": 33,
   "id": "19dc72e2-c64d-4475-86a6-c9ccf2082dd5",
   "metadata": {},
   "outputs": [
    {
     "data": {
      "text/plain": [
       "[300, 200, 80, 70, 60, 50, 40, 20]"
      ]
     },
     "execution_count": 33,
     "metadata": {},
     "output_type": "execute_result"
    }
   ],
   "source": [
    "a.reverse()\n",
    "a"
   ]
  },
  {
   "cell_type": "code",
   "execution_count": 41,
   "id": "5a4d9c6b-5c21-4b65-a7e7-b6606bf36229",
   "metadata": {},
   "outputs": [
    {
     "name": "stdout",
     "output_type": "stream",
     "text": [
      "maximum is  92\n"
     ]
    },
    {
     "data": {
      "text/plain": [
       "5"
      ]
     },
     "execution_count": 41,
     "metadata": {},
     "output_type": "execute_result"
    }
   ],
   "source": [
    "t = (45,89.5,76,45.4,89,92,58,45)\n",
    "m = max(t)\n",
    "print(\"maximum is \",m)\n",
    "t.index(m)"
   ]
  },
  {
   "cell_type": "code",
   "execution_count": 53,
   "id": "21b24ea6-388f-4cf6-a96b-b994bc6cd7c4",
   "metadata": {},
   "outputs": [
    {
     "name": "stdout",
     "output_type": "stream",
     "text": [
      "45\n",
      "2\n"
     ]
    }
   ],
   "source": [
    "t = (45,89.5,76,45.4,89,92,58,45)\n",
    "mini = min(t)\n",
    "print(mini)\n",
    "c = t.count(mini)\n",
    "print(c)"
   ]
  },
  {
   "cell_type": "code",
   "execution_count": 81,
   "id": "6f939ec6-0674-4583-9c7d-be8c4806d6b2",
   "metadata": {},
   "outputs": [
    {
     "name": "stdout",
     "output_type": "stream",
     "text": [
      "Enter a number  76\n"
     ]
    },
    {
     "name": "stdout",
     "output_type": "stream",
     "text": [
      "2\n"
     ]
    }
   ],
   "source": [
    "t = (45,89.5,76,45.4,89,92,58,45)\n",
    "n = int(input(\"Enter a number \"))\n",
    "co = t.count(n)\n",
    "if co>=1 :\n",
    "    ind = t.index(n)\n",
    "    print(ind)\n",
    "else:\n",
    "    print(\"not present \")\n",
    "\n"
   ]
  },
  {
   "cell_type": "code",
   "execution_count": 1,
   "id": "2f81cd70-956e-4edf-a7dd-8dec7a571e28",
   "metadata": {},
   "outputs": [
    {
     "name": "stdout",
     "output_type": "stream",
     "text": [
      "No of even numbers are 42\n",
      "644 782 766 434 210 176 822 226 482 688 128 526 778 392 720 268 170 118 630 566 774 866 126 790 184 580 120 458 652 454 316 674 872 564 206 340 576 382 196 418 214 524 \n",
      "\n",
      "No of odd numbers are 58\n",
      "605 669 831 531 839 125 721 349 857 783 311 717 389 827 425 723 421 281 871 861 211 801 663 747 553 101 169 597 529 395 119 607 745 699 397 235 343 819 295 503 883 549 729 463 515 585 609 789 629 485 271 803 595 275 685 687 407 453 \n",
      "\n",
      "839 349 857 311 389 827 421 281 211 101 607 397 503 883 463 271 No of prime numbers are 16\n"
     ]
    }
   ],
   "source": [
    "import random as r;\n",
    "A = list(range(100,901))\n",
    "L = r.sample(A,100)\n",
    "cntEven = 0\n",
    "cntOdd = 0\n",
    "cntPrime = 0\n",
    "for i in L:\n",
    "    if(i % 2 == 0):\n",
    "        cntEven += 1\n",
    "    elif(i % 2 == 1):\n",
    "        cntOdd += 1\n",
    "print(\"No of even numbers are\",cntEven)\n",
    "for i in L:\n",
    "    if(i % 2 == 0):\n",
    "        print(i,end = \" \")\n",
    "print(\"\\n\")\n",
    "print(\"No of odd numbers are\",cntOdd)\n",
    "for i in L:\n",
    "    if(i % 2 == 1):\n",
    "        print(i,end = \" \")\n",
    "print(\"\\n\")\n",
    "for i in L:\n",
    "    flag = 0\n",
    "    for j in range(2,i):\n",
    "        if(i % j == 0):\n",
    "            flag = 1\n",
    "            break\n",
    "    if(flag == 0):\n",
    "        cntPrime += 1\n",
    "        print(i,end = \" \")\n",
    "print(\"No of prime numbers are\",cntPrime)"
   ]
  },
  {
   "cell_type": "code",
   "execution_count": 1,
   "id": "e75df261-82ae-4ef1-81fb-837fe9bf4c8d",
   "metadata": {},
   "outputs": [
    {
     "name": "stdout",
     "output_type": "stream",
     "text": [
      "unique score {34, 45, 78, 23, 56, 90} \n",
      "common score {90, 78} \n",
      " score present in A not in B {56, 34} \n",
      "score present in B not in A {45, 23} \n"
     ]
    }
   ],
   "source": [
    "A={34,56,78,90}\n",
    "B = {78, 45, 90, 23}\n",
    "print(\"unique score\",A|B,end=\" \\n\")\n",
    "print(\"common score\",A&B,end=\" \\n\")\n",
    "print(\" score present in A not in B\",A-B,end=\" \\n\")\n",
    "print(\"score present in B not in A\",B-A,end=\" \\n\")"
   ]
  },
  {
   "cell_type": "code",
   "execution_count": null,
   "id": "6dcfd877",
   "metadata": {},
   "outputs": [],
   "source": [
    "A={34,56,78,90}\n",
    "n = int(input(\"Enter a number\"))\n",
    "len_A = len(A)\n",
    "A.discard(n)\n",
    "if(len(A) < len_A) :\n",
    "     print(A)\n",
    "else :\n",
    "     print(\"it's not present\")"
   ]
  },
  {
   "cell_type": "code",
   "execution_count": 3,
   "id": "600bd3d8",
   "metadata": {},
   "outputs": [
    {
     "name": "stdout",
     "output_type": "stream",
     "text": [
      "{'name ': 'Kelly', 'age': 25, 'salary': 8000, 'location': 'New york'}\n"
     ]
    }
   ],
   "source": [
    "dict = {\"name \":\"Kelly\",\n",
    "               \"age\":25,\n",
    "               \"salary\":8000,\n",
    "               \"city\":\"New york\"\n",
    "               }\n",
    "dict[\"location\"] = dict[\"city\"]\n",
    "del dict[\"city\"]\n",
    "print(dict)"
   ]
  }
 ],
 "metadata": {
  "kernelspec": {
   "display_name": "Python 3",
   "language": "python",
   "name": "python3"
  },
  "language_info": {
   "codemirror_mode": {
    "name": "ipython",
    "version": 3
   },
   "file_extension": ".py",
   "mimetype": "text/x-python",
   "name": "python",
   "nbconvert_exporter": "python",
   "pygments_lexer": "ipython3",
   "version": "3.13.1"
  }
 },
 "nbformat": 4,
 "nbformat_minor": 5
}
